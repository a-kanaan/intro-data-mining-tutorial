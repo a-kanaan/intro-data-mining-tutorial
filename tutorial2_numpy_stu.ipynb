{
 "cells": [
  {
   "cell_type": "markdown",
   "metadata": {},
   "source": [
    "# Introduction to Numpy\n",
    "#### Author: Dr Abdulkarim M. Jamal Kanaan Jebna\n",
    "<hr>"
   ]
  },
  {
   "cell_type": "markdown",
   "metadata": {},
   "source": [
    "Numpy stands for Numerical Python. It provides numerical computation such as max, min, abs, log, ...."
   ]
  },
  {
   "cell_type": "code",
   "execution_count": 2,
   "metadata": {},
   "outputs": [],
   "source": [
    "# import numpy package\n",
    "import numpy as np"
   ]
  },
  {
   "cell_type": "code",
   "execution_count": 101,
   "metadata": {},
   "outputs": [
    {
     "data": {
      "text/plain": [
       "5"
      ]
     },
     "execution_count": 101,
     "metadata": {},
     "output_type": "execute_result"
    }
   ],
   "source": [
    "# returns the maximum value\n",
    "np.max([1, 3, 5, 0])"
   ]
  },
  {
   "cell_type": "markdown",
   "metadata": {},
   "source": [
    "<code>ndarray</code> is the data structure numpy utilizes. ndarray is a multi-dimensional array. Numpy contains functions to manipulate items of ndarray"
   ]
  },
  {
   "cell_type": "code",
   "execution_count": 102,
   "metadata": {},
   "outputs": [
    {
     "data": {
      "text/plain": [
       "array([1, 2, 3, 4, 5])"
      ]
     },
     "execution_count": 102,
     "metadata": {},
     "output_type": "execute_result"
    }
   ],
   "source": [
    "# creates one dimension array\n",
    "array = np.array(range(1, 6))  \n",
    "array"
   ]
  },
  {
   "cell_type": "code",
   "execution_count": 103,
   "metadata": {},
   "outputs": [
    {
     "data": {
      "text/plain": [
       "1"
      ]
     },
     "execution_count": 103,
     "metadata": {},
     "output_type": "execute_result"
    }
   ],
   "source": [
    "# returns the number of dimensions of an array\n",
    "array.ndim"
   ]
  },
  {
   "cell_type": "code",
   "execution_count": 104,
   "metadata": {},
   "outputs": [
    {
     "data": {
      "text/plain": [
       "(5,)"
      ]
     },
     "execution_count": 104,
     "metadata": {},
     "output_type": "execute_result"
    }
   ],
   "source": [
    "# returns the shape of the array\n",
    "array.shape"
   ]
  },
  {
   "cell_type": "code",
   "execution_count": 105,
   "metadata": {},
   "outputs": [
    {
     "data": {
      "text/plain": [
       "5"
      ]
     },
     "execution_count": 105,
     "metadata": {},
     "output_type": "execute_result"
    }
   ],
   "source": [
    "# returns the number of elements of the array\n",
    "array.size"
   ]
  },
  {
   "cell_type": "code",
   "execution_count": 106,
   "metadata": {},
   "outputs": [
    {
     "data": {
      "text/plain": [
       "dtype('int32')"
      ]
     },
     "execution_count": 106,
     "metadata": {},
     "output_type": "execute_result"
    }
   ],
   "source": [
    "# returns the data type of the array\n",
    "array.dtype"
   ]
  },
  {
   "cell_type": "code",
   "execution_count": 107,
   "metadata": {},
   "outputs": [
    {
     "data": {
      "text/plain": [
       "array([[1, 2],\n",
       "       [3, 4],\n",
       "       [5, 6]])"
      ]
     },
     "execution_count": 107,
     "metadata": {},
     "output_type": "execute_result"
    }
   ],
   "source": [
    "# creates two dimension array; matrix\n",
    "matrix = np.array([[1,2], [3,4], [5, 6]])\n",
    "matrix"
   ]
  },
  {
   "cell_type": "code",
   "execution_count": 108,
   "metadata": {},
   "outputs": [
    {
     "data": {
      "text/plain": [
       "2"
      ]
     },
     "execution_count": 108,
     "metadata": {},
     "output_type": "execute_result"
    }
   ],
   "source": [
    "# returns the number of dimensions of the matrix\n",
    "matrix.ndim"
   ]
  },
  {
   "cell_type": "code",
   "execution_count": 109,
   "metadata": {},
   "outputs": [
    {
     "data": {
      "text/plain": [
       "(3, 2)"
      ]
     },
     "execution_count": 109,
     "metadata": {},
     "output_type": "execute_result"
    }
   ],
   "source": [
    "# returns the shape of the matrix\n",
    "matrix.shape"
   ]
  },
  {
   "cell_type": "code",
   "execution_count": 110,
   "metadata": {},
   "outputs": [
    {
     "data": {
      "text/plain": [
       "dtype('int32')"
      ]
     },
     "execution_count": 110,
     "metadata": {},
     "output_type": "execute_result"
    }
   ],
   "source": [
    "# returns the data type of the array\n",
    "matrix.dtype"
   ]
  },
  {
   "cell_type": "code",
   "execution_count": 111,
   "metadata": {},
   "outputs": [
    {
     "data": {
      "text/plain": [
       "array([[-0.25737728, -1.75016021, -1.5605778 ],\n",
       "       [-0.29633394, -0.10188751,  0.27691761]])"
      ]
     },
     "execution_count": 111,
     "metadata": {},
     "output_type": "execute_result"
    }
   ],
   "source": [
    "# creates an ndarray of two rows and three columns\n",
    "x = np.ndarray([2,3])\n",
    "x"
   ]
  },
  {
   "cell_type": "code",
   "execution_count": 112,
   "metadata": {},
   "outputs": [
    {
     "data": {
      "text/plain": [
       "array([[10.        , -1.75016021, -1.5605778 ],\n",
       "       [-0.29633394, -0.10188751,  0.27691761]])"
      ]
     },
     "execution_count": 112,
     "metadata": {},
     "output_type": "execute_result"
    }
   ],
   "source": [
    "# assigns a value to a specific cell\n",
    "x[0, 0] = 10\n",
    "x"
   ]
  },
  {
   "cell_type": "code",
   "execution_count": 113,
   "metadata": {},
   "outputs": [
    {
     "data": {
      "text/plain": [
       "10.0"
      ]
     },
     "execution_count": 113,
     "metadata": {},
     "output_type": "execute_result"
    }
   ],
   "source": [
    "# selects an element\n",
    "x[0, 0]"
   ]
  },
  {
   "cell_type": "markdown",
   "metadata": {},
   "source": [
    "<hr>\n",
    "\n",
    "#### use a list to select elements"
   ]
  },
  {
   "cell_type": "code",
   "execution_count": 135,
   "metadata": {},
   "outputs": [
    {
     "data": {
      "text/plain": [
       "[[0, 1, 1], [0, 1, 2]]"
      ]
     },
     "execution_count": 135,
     "metadata": {},
     "output_type": "execute_result"
    }
   ],
   "source": [
    "selector = [[0, 1, 1], [0, 1, 2]] # element-wise\n",
    "selector"
   ]
  },
  {
   "cell_type": "code",
   "execution_count": 134,
   "metadata": {},
   "outputs": [
    {
     "data": {
      "text/plain": [
       "array([10.        , -0.10188751,  0.27691761])"
      ]
     },
     "execution_count": 134,
     "metadata": {},
     "output_type": "execute_result"
    }
   ],
   "source": [
    "x[tuple(selector)]"
   ]
  },
  {
   "cell_type": "code",
   "execution_count": 137,
   "metadata": {},
   "outputs": [
    {
     "data": {
      "text/plain": [
       "array([[-10.        ,  -1.75016021,  -1.5605778 ],\n",
       "       [ -0.29633394, -10.        , -10.        ]])"
      ]
     },
     "execution_count": 137,
     "metadata": {},
     "output_type": "execute_result"
    }
   ],
   "source": [
    "x[tuple(selector)] = -10\n",
    "x"
   ]
  },
  {
   "cell_type": "markdown",
   "metadata": {},
   "source": [
    "<hr>\n",
    "\n",
    "### built-in functions\n",
    "\n",
    "##### <code>rand</code> function returns random values in uniform distribution between [0,1] in a given shape. "
   ]
  },
  {
   "cell_type": "code",
   "execution_count": 36,
   "metadata": {},
   "outputs": [
    {
     "data": {
      "text/plain": [
       "array([0.34274728, 0.49399387, 0.06149162, 0.41391787, 0.04478911])"
      ]
     },
     "execution_count": 36,
     "metadata": {},
     "output_type": "execute_result"
    }
   ],
   "source": [
    "# returns random values in a given shape\n",
    "# array\n",
    "np.random.rand(5)"
   ]
  },
  {
   "cell_type": "code",
   "execution_count": 38,
   "metadata": {},
   "outputs": [
    {
     "data": {
      "text/plain": [
       "array([[0.02044178, 0.54961412],\n",
       "       [0.68339947, 0.21952062],\n",
       "       [0.11990797, 0.28605608],\n",
       "       [0.79806222, 0.91003837],\n",
       "       [0.76546423, 0.16004812]])"
      ]
     },
     "execution_count": 38,
     "metadata": {},
     "output_type": "execute_result"
    }
   ],
   "source": [
    "# matrix\n",
    "np.random.rand(5, 2)"
   ]
  },
  {
   "cell_type": "code",
   "execution_count": 39,
   "metadata": {},
   "outputs": [
    {
     "data": {
      "text/plain": [
       "array([-0.78293306, -0.92108768, -0.76004764,  0.13748944,  0.45134641])"
      ]
     },
     "execution_count": 39,
     "metadata": {},
     "output_type": "execute_result"
    }
   ],
   "source": [
    "# creates an array from a normal distribution\n",
    "np.random.randn(5)"
   ]
  },
  {
   "cell_type": "code",
   "execution_count": 40,
   "metadata": {},
   "outputs": [
    {
     "data": {
      "text/plain": [
       "array([1, 3, 5, 7, 9])"
      ]
     },
     "execution_count": 40,
     "metadata": {},
     "output_type": "execute_result"
    }
   ],
   "source": [
    "# creates ndarray; its functionality is similar to range function. \n",
    "np.arange(1, 11, 2)"
   ]
  },
  {
   "cell_type": "code",
   "execution_count": 50,
   "metadata": {},
   "outputs": [
    {
     "data": {
      "text/plain": [
       "array([[0, 1, 2, 3, 4],\n",
       "       [5, 6, 7, 8, 9]])"
      ]
     },
     "execution_count": 50,
     "metadata": {},
     "output_type": "execute_result"
    }
   ],
   "source": [
    "# returns an array containing the same data but in a new shape \n",
    "x = np.arange(10)\n",
    "x.reshape(2, 5)"
   ]
  },
  {
   "cell_type": "code",
   "execution_count": 56,
   "metadata": {},
   "outputs": [
    {
     "data": {
      "text/plain": [
       "array([ 0.        ,  0.52631579,  1.05263158,  1.57894737,  2.10526316,\n",
       "        2.63157895,  3.15789474,  3.68421053,  4.21052632,  4.73684211,\n",
       "        5.26315789,  5.78947368,  6.31578947,  6.84210526,  7.36842105,\n",
       "        7.89473684,  8.42105263,  8.94736842,  9.47368421, 10.        ])"
      ]
     },
     "execution_count": 56,
     "metadata": {},
     "output_type": "execute_result"
    }
   ],
   "source": [
    "# returns evenly spaced numbers over a specified interval.\n",
    "np.linspace(start=0, stop=10, num=20)"
   ]
  },
  {
   "cell_type": "code",
   "execution_count": 61,
   "metadata": {},
   "outputs": [
    {
     "data": {
      "text/plain": [
       "array([1.00000000e-02, 1.62377674e-02, 2.63665090e-02, 4.28133240e-02,\n",
       "       6.95192796e-02, 1.12883789e-01, 1.83298071e-01, 2.97635144e-01,\n",
       "       4.83293024e-01, 7.84759970e-01, 1.27427499e+00, 2.06913808e+00,\n",
       "       3.35981829e+00, 5.45559478e+00, 8.85866790e+00, 1.43844989e+01,\n",
       "       2.33572147e+01, 3.79269019e+01, 6.15848211e+01, 1.00000000e+02])"
      ]
     },
     "execution_count": 61,
     "metadata": {},
     "output_type": "execute_result"
    }
   ],
   "source": [
    "# returns numbers spaced evenly on a log scale from 10^-2 to 10^+2\n",
    "np.logspace(start=-2, stop=2, num=20)"
   ]
  },
  {
   "cell_type": "code",
   "execution_count": 62,
   "metadata": {},
   "outputs": [
    {
     "data": {
      "text/plain": [
       "array([[0., 0., 0.],\n",
       "       [0., 0., 0.],\n",
       "       [0., 0., 0.]])"
      ]
     },
     "execution_count": 62,
     "metadata": {},
     "output_type": "execute_result"
    }
   ],
   "source": [
    "# returns a new array of given shape and type, filled with zeros\n",
    "np.zeros((3, 3))"
   ]
  },
  {
   "cell_type": "code",
   "execution_count": 63,
   "metadata": {},
   "outputs": [
    {
     "data": {
      "text/plain": [
       "array([[1., 1., 1.],\n",
       "       [1., 1., 1.],\n",
       "       [1., 1., 1.]])"
      ]
     },
     "execution_count": 63,
     "metadata": {},
     "output_type": "execute_result"
    }
   ],
   "source": [
    "# returns a new array of given shape and type, filled with ones\n",
    "np.ones((3, 3))"
   ]
  },
  {
   "cell_type": "code",
   "execution_count": 66,
   "metadata": {},
   "outputs": [
    {
     "data": {
      "text/plain": [
       "array([[1., 0., 0.],\n",
       "       [0., 1., 0.],\n",
       "       [0., 0., 1.]])"
      ]
     },
     "execution_count": 66,
     "metadata": {},
     "output_type": "execute_result"
    }
   ],
   "source": [
    "# returns a 2-D array with ones on the diagonal and zeros elsewhere\n",
    "np.eye(3)"
   ]
  },
  {
   "cell_type": "code",
   "execution_count": 75,
   "metadata": {},
   "outputs": [
    {
     "data": {
      "text/plain": [
       "array([-10,  -8,  -6,  -4,  -2,   0,   2,   4,   6,   8])"
      ]
     },
     "execution_count": 75,
     "metadata": {},
     "output_type": "execute_result"
    }
   ],
   "source": [
    "# performing slicing\n",
    "x = np.arange(-10, 10, 2)\n",
    "x"
   ]
  },
  {
   "cell_type": "code",
   "execution_count": 76,
   "metadata": {},
   "outputs": [
    {
     "data": {
      "text/plain": [
       "array([-8, -6])"
      ]
     },
     "execution_count": 76,
     "metadata": {},
     "output_type": "execute_result"
    }
   ],
   "source": [
    "# slicing\n",
    "x[1:3]"
   ]
  },
  {
   "cell_type": "code",
   "execution_count": 77,
   "metadata": {},
   "outputs": [
    {
     "data": {
      "text/plain": [
       "array([-10,  -8,  -6,  -4,  -2])"
      ]
     },
     "execution_count": 77,
     "metadata": {},
     "output_type": "execute_result"
    }
   ],
   "source": [
    "# ndarray provides support to the indexing\n",
    "x = np.arange(-10, 10, 2)\n",
    "x[x < 0]"
   ]
  },
  {
   "cell_type": "code",
   "execution_count": 78,
   "metadata": {},
   "outputs": [
    {
     "data": {
      "text/plain": [
       "array([-6,  0,  6])"
      ]
     },
     "execution_count": 78,
     "metadata": {},
     "output_type": "execute_result"
    }
   ],
   "source": [
    "# considers only the values that satisfy the condition x%3==0\n",
    "x[x % 3 == 0]"
   ]
  },
  {
   "cell_type": "markdown",
   "metadata": {},
   "source": [
    "### Numpy arithmatics and statistical operations\n"
   ]
  },
  {
   "cell_type": "code",
   "execution_count": 146,
   "metadata": {},
   "outputs": [
    {
     "name": "stdout",
     "output_type": "stream",
     "text": [
      "x:\n",
      "[-3.  -2.5 -2.  -1.5 -1.  -0.5  0.   0.5  1.   1.5  2.   2.5  3.   3.5\n",
      "  4.   4.5]\n",
      "\n",
      "abs:  [3.  2.5 2.  1.5 1.  0.5 0.  0.5 1.  1.5 2.  2.5 3.  3.5 4.  4.5] \n",
      "\n",
      "sqrt:  [1.73205081 1.58113883 1.41421356 1.22474487 1.         0.70710678\n",
      " 0.         0.70710678 1.         1.22474487 1.41421356 1.58113883\n",
      " 1.73205081 1.87082869 2.         2.12132034] \n",
      "\n",
      "sign:  [-1. -1. -1. -1. -1. -1.  0.  1.  1.  1.  1.  1.  1.  1.  1.  1.] \n",
      "\n",
      "exp:  [4.97870684e-02 8.20849986e-02 1.35335283e-01 2.23130160e-01\n",
      " 3.67879441e-01 6.06530660e-01 1.00000000e+00 1.64872127e+00\n",
      " 2.71828183e+00 4.48168907e+00 7.38905610e+00 1.21824940e+01\n",
      " 2.00855369e+01 3.31154520e+01 5.45981500e+01 9.00171313e+01] \n",
      "\n",
      "sorted array:  [-3.  -2.5 -2.  -1.5 -1.  -0.5  0.   0.5  1.   1.5  2.   2.5  3.   3.5\n",
      "  4.   4.5] \n",
      "\n"
     ]
    }
   ],
   "source": [
    "# creates an array contains values in between [-3..5[\n",
    "x = np.arange(-3, 5, 0.5)\n",
    "print(\"x:\")\n",
    "print(x)\n",
    "print()\n",
    "\n",
    "print(\"abs: \", np.abs(x), \"\\n\") # returns the absolute values\n",
    "print(\"sqrt: \", np.sqrt(abs(x)), \"\\n\") # returns the square root for each item\n",
    "print(\"sign: \", np.sign(x), \"\\n\") # returns the sign value for each element\n",
    "print(\"exp: \", np.exp(x), \"\\n\")  # returns exponentiation for each element\n",
    "print(\"sorted array: \", np.sort(x), \"\\n\") # returns a sorted array"
   ]
  },
  {
   "cell_type": "markdown",
   "metadata": {},
   "source": [
    "### operations on two arrays"
   ]
  },
  {
   "cell_type": "code",
   "execution_count": 147,
   "metadata": {},
   "outputs": [
    {
     "data": {
      "text/plain": [
       "array([2, 3])"
      ]
     },
     "execution_count": 147,
     "metadata": {},
     "output_type": "execute_result"
    }
   ],
   "source": [
    "x1 = np.array([2, 3])\n",
    "x1"
   ]
  },
  {
   "cell_type": "code",
   "execution_count": 148,
   "metadata": {},
   "outputs": [
    {
     "data": {
      "text/plain": [
       "array([3, 2])"
      ]
     },
     "execution_count": 148,
     "metadata": {},
     "output_type": "execute_result"
    }
   ],
   "source": [
    "x2 = np.array([3, 2])\n",
    "x2"
   ]
  },
  {
   "cell_type": "code",
   "execution_count": 153,
   "metadata": {},
   "outputs": [
    {
     "data": {
      "text/plain": [
       "array([6, 6])"
      ]
     },
     "execution_count": 153,
     "metadata": {},
     "output_type": "execute_result"
    }
   ],
   "source": [
    "\n",
    "x1 * x2 # np.multiply(x1, x2)"
   ]
  },
  {
   "cell_type": "code",
   "execution_count": 152,
   "metadata": {},
   "outputs": [
    {
     "data": {
      "text/plain": [
       "12"
      ]
     },
     "execution_count": 152,
     "metadata": {},
     "output_type": "execute_result"
    }
   ],
   "source": [
    "np.dot(x1, x2)"
   ]
  },
  {
   "cell_type": "markdown",
   "metadata": {
    "tags": []
   },
   "source": [
    "#### two-dimentional arrays"
   ]
  },
  {
   "cell_type": "code",
   "execution_count": 154,
   "metadata": {},
   "outputs": [
    {
     "data": {
      "text/plain": [
       "array([[1, 2],\n",
       "       [3, 4]])"
      ]
     },
     "execution_count": 154,
     "metadata": {},
     "output_type": "execute_result"
    }
   ],
   "source": [
    "x1 = np.arange(1,5).reshape(2, 2)\n",
    "x1"
   ]
  },
  {
   "cell_type": "code",
   "execution_count": 156,
   "metadata": {},
   "outputs": [
    {
     "data": {
      "text/plain": [
       "array([[5, 6],\n",
       "       [7, 8]])"
      ]
     },
     "execution_count": 156,
     "metadata": {},
     "output_type": "execute_result"
    }
   ],
   "source": [
    "x2 = np.arange(5, 9).reshape(2, 2)\n",
    "x2"
   ]
  },
  {
   "cell_type": "code",
   "execution_count": 157,
   "metadata": {},
   "outputs": [
    {
     "data": {
      "text/plain": [
       "array([[ 5, 12],\n",
       "       [21, 32]])"
      ]
     },
     "execution_count": 157,
     "metadata": {},
     "output_type": "execute_result"
    }
   ],
   "source": [
    "x1 * x2 # element-wise"
   ]
  },
  {
   "cell_type": "code",
   "execution_count": 159,
   "metadata": {},
   "outputs": [
    {
     "data": {
      "text/plain": [
       "array([[19, 22],\n",
       "       [43, 50]])"
      ]
     },
     "execution_count": 159,
     "metadata": {},
     "output_type": "execute_result"
    }
   ],
   "source": [
    "np.dot(x1, x2) # matrix multiplication"
   ]
  },
  {
   "cell_type": "markdown",
   "metadata": {},
   "source": [
    "<hr>\n",
    "\n",
    "### element-wise operations"
   ]
  },
  {
   "cell_type": "code",
   "execution_count": 91,
   "metadata": {},
   "outputs": [
    {
     "name": "stdout",
     "output_type": "stream",
     "text": [
      "x:  [-3 -2 -1  0  1  2]\n",
      "y:  [-0.25737728 -1.75016021 -1.5605778  -0.29633394 -0.10188751  0.27691761]\n",
      "x+y:  [-3.25737728 -3.75016021 -2.5605778  -0.29633394  0.89811249  2.27691761]\n",
      "[-2.74262272 -0.24983979  0.5605778   0.29633394  1.10188751  1.72308239]\n",
      "[ 0.77213183  3.50032042  1.5605778  -0.         -0.10188751  0.55383522]\n",
      "[11.65604063  1.14275253  0.6407883  -0.         -9.81474541  7.22236482]\n",
      "[-0.25737728 -1.75016021 -1.          0.          1.          2.        ]\n"
     ]
    }
   ],
   "source": [
    "x = np.arange(-3, 3)\n",
    "y = np.random.randn(6)\n",
    "print(\"x: \", x)\n",
    "print(\"y: \", y)\n",
    "\n",
    "print(\"x+y: \", np.add(x,y))  # returns an array after applying an element-wise addition\n",
    "print(np.subtract(x,y))      # returns an array after applying an element-wise subtraction\n",
    "print(np.multiply(x,y))      # returns an array after applying an element-wise multiplication\n",
    "print(np.divide(x,y))        # returns an array after applying an element-wise division\n",
    "print(np.maximum(x,y))       # returns an array after applying an element-wise maximum      "
   ]
  },
  {
   "cell_type": "markdown",
   "metadata": {},
   "source": [
    "<hr>\n",
    "\n",
    "### statistical operations"
   ]
  },
  {
   "cell_type": "code",
   "execution_count": 99,
   "metadata": {},
   "outputs": [
    {
     "name": "stdout",
     "output_type": "stream",
     "text": [
      "y=\n",
      "[[ -2.23354529   1.15668844  -3.92677141   1.13792283   2.94573719]\n",
      " [ -1.68514259 -10.5200091    9.47693212   0.49473461   3.30802504]]\n",
      "\n",
      "Min = -10.520009095191298\n",
      "Max = 9.47693212115603\n",
      "Average = 0.015457183319887413\n",
      "Std deviation = 4.96212015618091\n",
      "Sum = 0.15457183319887413\n"
     ]
    }
   ],
   "source": [
    "y = np.random.randn(2, 5) * 5   # generate a random two dimensional array\n",
    "print(\"y=\")\n",
    "print(y)\n",
    "print()\n",
    "\n",
    "print(\"Min =\", np.min(y))             # returns the minimum value in an array \n",
    "print(\"Max =\", np.max(y))             # returns the maximum value in an array \n",
    "print(\"Average =\", np.mean(y))        # returns the mean/average of elements of an array\n",
    "print(\"Std deviation =\", np.std(y))   # returns the standard deviation of elements of an array\n",
    "print(\"Sum =\", np.sum(y))             # returns the total summation of the lements of an array "
   ]
  },
  {
   "cell_type": "markdown",
   "metadata": {},
   "source": [
    "### Exercise\n",
    "\n",
    "1. what is the difference between np.arange and range?"
   ]
  },
  {
   "cell_type": "code",
   "execution_count": 42,
   "metadata": {},
   "outputs": [],
   "source": [
    "# write your answer\n",
    "# np.arange returns ndarray instead of list as the case in range"
   ]
  },
  {
   "cell_type": "markdown",
   "metadata": {},
   "source": [
    "2. two lists <code>\\[4, 5, 6, 7, 8]</code> and <code>\\[0, 1, 0, 1, 0]</code>. multipy two lists using np.multiply (*)\n"
   ]
  },
  {
   "cell_type": "code",
   "execution_count": 160,
   "metadata": {},
   "outputs": [],
   "source": [
    "# write your code here\n"
   ]
  },
  {
   "cell_type": "markdown",
   "metadata": {},
   "source": [
    "3. what are the outputs of dot product on the two arrays: \n",
    "- <code>\\[-1, 1]</code> and <code>\\[1, 1]</code> \n",
    "- <code>\\[1, 0]</code> and <code>\\[0, 1]</code>\n",
    "- <code>\\[1, 1]</code> and <code>\\[0, 1]</code>\n",
    "\n",
    "4. why the last dot product output is different than the others?\n"
   ]
  },
  {
   "cell_type": "code",
   "execution_count": 161,
   "metadata": {},
   "outputs": [],
   "source": [
    "# 3. write your code here\n",
    "\n",
    "\n",
    "# 4. justify?\n"
   ]
  },
  {
   "cell_type": "markdown",
   "metadata": {},
   "source": [
    "## Prepared by\n",
    "\n",
    "#### Abdulkarim M. Jamal Kanaan\n",
    "<a href=\"\">Linked-In</a> "
   ]
  },
  {
   "cell_type": "code",
   "execution_count": null,
   "metadata": {},
   "outputs": [],
   "source": []
  }
 ],
 "metadata": {
  "kernelspec": {
   "display_name": "Python 3.7.6 64-bit ('base': conda)",
   "language": "python",
   "name": "python37664bitbaseconda0595aeaeda83418a96b6d70800992dd6"
  },
  "language_info": {
   "codemirror_mode": {
    "name": "ipython",
    "version": 3
   },
   "file_extension": ".py",
   "mimetype": "text/x-python",
   "name": "python",
   "nbconvert_exporter": "python",
   "pygments_lexer": "ipython3",
   "version": "3.7.11"
  }
 },
 "nbformat": 4,
 "nbformat_minor": 4
}
