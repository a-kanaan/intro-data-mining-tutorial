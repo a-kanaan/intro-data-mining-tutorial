{
 "cells": [
  {
   "cell_type": "markdown",
   "metadata": {},
   "source": [
    "# Python Basics - Part 2\n",
    "#### Prepared by: Dr Abdulkarim M. Jamal Kanaan Jebna\n",
    "<hr>\n",
    "\n",
    "in this tutorial will work on <code>Python</code>. we will discover some functions and get familiar with python\n",
    "\n",
    "this is considered as an brief introduction to <code>python</code>"
   ]
  },
  {
   "cell_type": "markdown",
   "metadata": {},
   "source": [
    "<hr>\n",
    "\n",
    "## Reading Files\n",
    "python provides <code>open</code> function to open a file. It returns an object through which you can read, save, append content of the file."
   ]
  },
  {
   "cell_type": "code",
   "execution_count": 9,
   "metadata": {},
   "outputs": [],
   "source": [
    "# opens a file and returns a stream\n",
    "file1 = open(file=\"text_file.txt\", mode='r')"
   ]
  },
  {
   "cell_type": "markdown",
   "metadata": {},
   "source": [
    "there are two modes:\n",
    "**r** reading\n",
    "**w** writing"
   ]
  },
  {
   "cell_type": "code",
   "execution_count": 10,
   "metadata": {},
   "outputs": [
    {
     "data": {
      "text/plain": [
       "'text_file.txt'"
      ]
     },
     "execution_count": 10,
     "metadata": {},
     "output_type": "execute_result"
    }
   ],
   "source": [
    "# gets the file name\n",
    "file1.name"
   ]
  },
  {
   "cell_type": "code",
   "execution_count": 11,
   "metadata": {},
   "outputs": [
    {
     "data": {
      "text/plain": [
       "'r'"
      ]
     },
     "execution_count": 11,
     "metadata": {},
     "output_type": "execute_result"
    }
   ],
   "source": [
    "# gets the file mode\n",
    "file1.mode"
   ]
  },
  {
   "cell_type": "code",
   "execution_count": 12,
   "metadata": {},
   "outputs": [
    {
     "data": {
      "text/plain": [
       "'Python line1\\nPython line2\\nPython line3'"
      ]
     },
     "execution_count": 12,
     "metadata": {},
     "output_type": "execute_result"
    }
   ],
   "source": [
    "# reads the content of the file\n",
    "file1.read()"
   ]
  },
  {
   "cell_type": "code",
   "execution_count": 16,
   "metadata": {},
   "outputs": [
    {
     "data": {
      "text/plain": [
       "0"
      ]
     },
     "execution_count": 16,
     "metadata": {},
     "output_type": "execute_result"
    }
   ],
   "source": [
    "# changes file position\n",
    "file1.seek(0)"
   ]
  },
  {
   "cell_type": "code",
   "execution_count": 17,
   "metadata": {},
   "outputs": [
    {
     "data": {
      "text/plain": [
       "['Python line1\\n', 'Python line2\\n', 'Python line3']"
      ]
     },
     "execution_count": 17,
     "metadata": {},
     "output_type": "execute_result"
    }
   ],
   "source": [
    "# reads the file content and returns the content in a list format\n",
    "file1.readlines()"
   ]
  },
  {
   "cell_type": "code",
   "execution_count": 19,
   "metadata": {},
   "outputs": [],
   "source": [
    "# it is essential to close the file (resource) once it is not needed\n",
    "file1.close()"
   ]
  },
  {
   "cell_type": "code",
   "execution_count": 21,
   "metadata": {},
   "outputs": [
    {
     "data": {
      "text/plain": [
       "True"
      ]
     },
     "execution_count": 21,
     "metadata": {},
     "output_type": "execute_result"
    }
   ],
   "source": [
    "# checks if file has closed or not\n",
    "file1.closed"
   ]
  },
  {
   "cell_type": "markdown",
   "metadata": {},
   "source": [
    "#### Alternative Way to Open File (Better)"
   ]
  },
  {
   "cell_type": "code",
   "execution_count": 22,
   "metadata": {},
   "outputs": [
    {
     "name": "stdout",
     "output_type": "stream",
     "text": [
      "Python line1\n",
      "Python line2\n",
      "Python line3\n"
     ]
    }
   ],
   "source": [
    "with open(\"text_file.txt\", \"r\") as file1:\n",
    "    print(file1.read())"
   ]
  },
  {
   "cell_type": "code",
   "execution_count": 23,
   "metadata": {},
   "outputs": [
    {
     "data": {
      "text/plain": [
       "True"
      ]
     },
     "execution_count": 23,
     "metadata": {},
     "output_type": "execute_result"
    }
   ],
   "source": [
    "file1.closed"
   ]
  },
  {
   "cell_type": "markdown",
   "metadata": {},
   "source": [
    "we don't need to read the whole file"
   ]
  },
  {
   "cell_type": "code",
   "execution_count": 26,
   "metadata": {},
   "outputs": [
    {
     "name": "stdout",
     "output_type": "stream",
     "text": [
      "Pyth\n",
      "on line1\n",
      "P\n"
     ]
    }
   ],
   "source": [
    "with open(\"text_file.txt\", \"r\") as file1:\n",
    "    print(file1.read(4)) # reads 4 characters\n",
    "    print(file1.read(10)) # reads next 10 characters"
   ]
  },
  {
   "cell_type": "markdown",
   "metadata": {},
   "source": [
    "##### a loop can be used to read each line of the file"
   ]
  },
  {
   "cell_type": "code",
   "execution_count": 31,
   "metadata": {},
   "outputs": [
    {
     "name": "stdout",
     "output_type": "stream",
     "text": [
      "Python line1\n",
      "\n",
      "Python line2\n",
      "\n",
      "Python line3\n"
     ]
    }
   ],
   "source": [
    "with open(\"text_file.txt\", \"r\") as file1:\n",
    "    for line in file1:\n",
    "        print(line)"
   ]
  },
  {
   "cell_type": "markdown",
   "metadata": {},
   "source": [
    "<br>\n",
    "\n",
    "### Exercise\n",
    "read text_file1.txt file, then print you need to print a number of character from each line based on the formula 5*(line_index). e.g., first line: 5\\*1, second-lind: 5\\*2, ...etc. In addition: adds the prefix 'Line#{}\"\n",
    "<br>\n",
    "\n",
    "output:\n",
    "- Line#1: xxxxx\n",
    "- Line#2: xxxxxxxxxxx\n",
    "- ...."
   ]
  },
  {
   "cell_type": "code",
   "execution_count": 47,
   "metadata": {},
   "outputs": [],
   "source": [
    "# write your answer here\n"
   ]
  },
  {
   "cell_type": "markdown",
   "metadata": {},
   "source": [
    "<hr>\n",
    "\n",
    "### File Writing\n",
    "to write into a file, use same function open with writing mode \"w\""
   ]
  },
  {
   "cell_type": "code",
   "execution_count": 32,
   "metadata": {},
   "outputs": [],
   "source": [
    "file_name = \"text_file2.txt\"\n",
    "with open(file_name, \"w\") as file:\n",
    "    file.write(\"Code Line #1\")"
   ]
  },
  {
   "cell_type": "code",
   "execution_count": 35,
   "metadata": {},
   "outputs": [
    {
     "name": "stdout",
     "output_type": "stream",
     "text": [
      "['Code Line #1']\n"
     ]
    }
   ],
   "source": [
    "# read again the file\n",
    "with open(file_name, \"r\") as file:\n",
    "    print(file.readlines())"
   ]
  },
  {
   "cell_type": "markdown",
   "metadata": {},
   "source": [
    "<br>\n",
    "\n",
    "writing multiple lines"
   ]
  },
  {
   "cell_type": "code",
   "execution_count": 43,
   "metadata": {},
   "outputs": [],
   "source": [
    "with open(file_name, \"w\") as file:\n",
    "    file.write(\"Code Line #1\")\n",
    "    file.write(\"Code Line #2\")"
   ]
  },
  {
   "cell_type": "code",
   "execution_count": 44,
   "metadata": {},
   "outputs": [
    {
     "name": "stdout",
     "output_type": "stream",
     "text": [
      "Code Line #1Code Line #2\n"
     ]
    }
   ],
   "source": [
    "# read again the file\n",
    "with open(file_name, \"r\") as file:\n",
    "    for line in file:\n",
    "        print(line)"
   ]
  },
  {
   "cell_type": "markdown",
   "metadata": {},
   "source": [
    "how to separate betweeen lines? we use <code>\\n</code>"
   ]
  },
  {
   "cell_type": "code",
   "execution_count": 38,
   "metadata": {},
   "outputs": [],
   "source": [
    "with open(file_name, \"w\") as file:\n",
    "    file.write(\"Code Line #1\\n\")\n",
    "    file.write(\"Code Line #2\\n\")"
   ]
  },
  {
   "cell_type": "code",
   "execution_count": 41,
   "metadata": {},
   "outputs": [
    {
     "name": "stdout",
     "output_type": "stream",
     "text": [
      "Code Line #1\n",
      "\n",
      "Code Line #2\n",
      "\n"
     ]
    }
   ],
   "source": [
    "# read again the file\n",
    "with open(file_name, \"r\") as file:\n",
    "    for line in file:\n",
    "        print(line)"
   ]
  },
  {
   "cell_type": "markdown",
   "metadata": {},
   "source": [
    "<br>\n",
    "\n",
    "### Exercise\n",
    "create a file \"text_file3.txt\", iterate the following list <code>['Exercise Number# 1', 'Exercise Number# 2', 'Exercise Number# 2']</code> and save each item of the list into a separate line. Read the file after you finish to verify writing was successful"
   ]
  },
  {
   "cell_type": "code",
   "execution_count": 45,
   "metadata": {},
   "outputs": [],
   "source": [
    "# write your answer here\n"
   ]
  },
  {
   "cell_type": "markdown",
   "metadata": {},
   "source": [
    "## Author\n",
    "\n",
    "#### Abdulkarim M. Jamal Kanaan"
   ]
  }
 ],
 "metadata": {
  "kernelspec": {
   "display_name": "Python 3 (ipykernel)",
   "language": "python",
   "name": "python3"
  },
  "language_info": {
   "codemirror_mode": {
    "name": "ipython",
    "version": 3
   },
   "file_extension": ".py",
   "mimetype": "text/x-python",
   "name": "python",
   "nbconvert_exporter": "python",
   "pygments_lexer": "ipython3",
   "version": "3.7.11"
  }
 },
 "nbformat": 4,
 "nbformat_minor": 4
}
